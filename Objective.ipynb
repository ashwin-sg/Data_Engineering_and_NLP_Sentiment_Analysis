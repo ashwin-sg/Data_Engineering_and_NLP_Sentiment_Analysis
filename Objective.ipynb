{
 "cells": [
  {
   "cell_type": "markdown",
   "id": "374f73b2",
   "metadata": {},
   "source": [
    "#### Data intake and libraries setup"
   ]
  },
  {
   "cell_type": "code",
   "execution_count": 1,
   "id": "1813d7e4",
   "metadata": {},
   "outputs": [],
   "source": [
    "#import libraries\n",
    "\n",
    "from selenium import webdriver\n",
    "from selenium.webdriver.common.keys import Keys\n",
    "from bs4 import BeautifulSoup as bs\n",
    "import requests\n",
    "import pandas as pd\n",
    "import numpy as np\n",
    "from nltk.tokenize import word_tokenize\n",
    "import re\n",
    "import string\n",
    "from time import sleep"
   ]
  },
  {
   "cell_type": "code",
   "execution_count": 2,
   "id": "c56a5036",
   "metadata": {},
   "outputs": [],
   "source": [
    "#import input dataset\n",
    "input_data = pd.read_csv(\"Input.xlsx - Sheet1.csv\")\n",
    "\n",
    "\n",
    "#import positive and negative words\n",
    "pos_words = pd.read_csv('positive-words.txt', header=None, names=['positive_words'])\n",
    "neg_words = pd.read_csv('negative-words.txt', header=None, names=['negative_words'])\n",
    "\n",
    "\n",
    "#convert postive and negative dataframe into list\n",
    "positive_words = list(pos_words['positive_words'])\n",
    "negative_words = list(neg_words['negative_words'])\n",
    "\n",
    "\n",
    "#import stopwrods\n",
    "auditor = pd.read_csv('StopWords_Auditor.txt',header=None, names=['words'])\n",
    "currencies = pd.read_csv('StopWords_Currencies.txt',header=None, names=['words'])\n",
    "dates_numbers = pd.read_csv('StopWords_DatesandNumbers.txt',header=None, names=['words'])\n",
    "generic = pd.read_csv('StopWords_Generic.txt',header=None, names=['words'])\n",
    "genericlong = pd.read_csv('StopWords_GenericLong.txt',header=None, names=['words'])\n",
    "geog = pd.read_csv('StopWords_Geographic.txt',header=None, names=['words'])\n",
    "names = pd.read_csv('StopWords_Names.txt',header=None, names=['words'])\n",
    "\n",
    "\n",
    "#combine all stopwrds in one dataset\n",
    "df_stopwords = pd.concat([auditor,currencies,dates_numbers,generic,genericlong,geog,names], axis=0)\n",
    "\n",
    "#create a list of stopwords from dataframe\n",
    "stopwords = list(df_stopwords['words'].str.lower())"
   ]
  },
  {
   "cell_type": "code",
   "execution_count": 3,
   "id": "c2684567",
   "metadata": {},
   "outputs": [
    {
     "data": {
      "text/plain": [
       "(114, 2)"
      ]
     },
     "execution_count": 3,
     "metadata": {},
     "output_type": "execute_result"
    }
   ],
   "source": [
    "#check the dimension of the dataset\n",
    "\n",
    "input_data.shape"
   ]
  },
  {
   "cell_type": "code",
   "execution_count": 4,
   "id": "5cc37bf3",
   "metadata": {},
   "outputs": [
    {
     "data": {
      "text/html": [
       "<div>\n",
       "<style scoped>\n",
       "    .dataframe tbody tr th:only-of-type {\n",
       "        vertical-align: middle;\n",
       "    }\n",
       "\n",
       "    .dataframe tbody tr th {\n",
       "        vertical-align: top;\n",
       "    }\n",
       "\n",
       "    .dataframe thead th {\n",
       "        text-align: right;\n",
       "    }\n",
       "</style>\n",
       "<table border=\"1\" class=\"dataframe\">\n",
       "  <thead>\n",
       "    <tr style=\"text-align: right;\">\n",
       "      <th></th>\n",
       "      <th>URL_ID</th>\n",
       "      <th>URL</th>\n",
       "    </tr>\n",
       "  </thead>\n",
       "  <tbody>\n",
       "    <tr>\n",
       "      <th>0</th>\n",
       "      <td>123.0</td>\n",
       "      <td>https://insights.blackcoffer.com/rise-of-telem...</td>\n",
       "    </tr>\n",
       "    <tr>\n",
       "      <th>1</th>\n",
       "      <td>321.0</td>\n",
       "      <td>https://insights.blackcoffer.com/rise-of-e-hea...</td>\n",
       "    </tr>\n",
       "    <tr>\n",
       "      <th>2</th>\n",
       "      <td>2345.0</td>\n",
       "      <td>https://insights.blackcoffer.com/rise-of-e-hea...</td>\n",
       "    </tr>\n",
       "    <tr>\n",
       "      <th>3</th>\n",
       "      <td>4321.0</td>\n",
       "      <td>https://insights.blackcoffer.com/rise-of-telem...</td>\n",
       "    </tr>\n",
       "    <tr>\n",
       "      <th>4</th>\n",
       "      <td>432.0</td>\n",
       "      <td>https://insights.blackcoffer.com/rise-of-telem...</td>\n",
       "    </tr>\n",
       "  </tbody>\n",
       "</table>\n",
       "</div>"
      ],
      "text/plain": [
       "   URL_ID                                                URL\n",
       "0   123.0  https://insights.blackcoffer.com/rise-of-telem...\n",
       "1   321.0  https://insights.blackcoffer.com/rise-of-e-hea...\n",
       "2  2345.0  https://insights.blackcoffer.com/rise-of-e-hea...\n",
       "3  4321.0  https://insights.blackcoffer.com/rise-of-telem...\n",
       "4   432.0  https://insights.blackcoffer.com/rise-of-telem..."
      ]
     },
     "execution_count": 4,
     "metadata": {},
     "output_type": "execute_result"
    }
   ],
   "source": [
    "#take a look at first 5 rows from data\n",
    "\n",
    "input_data.head()"
   ]
  },
  {
   "cell_type": "markdown",
   "id": "8ca7da4a",
   "metadata": {},
   "source": [
    "#### Data Extraction"
   ]
  },
  {
   "cell_type": "code",
   "execution_count": 5,
   "id": "b043ac78",
   "metadata": {},
   "outputs": [],
   "source": [
    "#create an empty list to store all data\n",
    "scraped_data = []\n",
    "\n",
    "#go through each links save data in another dataset\n",
    "\n",
    "for link in input_data['URL']:\n",
    "    url = link\n",
    "    req = requests.get(url)\n",
    "    soup = bs(req.content, 'html.parser')\n",
    "    \n",
    "    #extract, clean and store title\n",
    "    try:\n",
    "        title = soup.find('h1').get_text()\n",
    "    except AttributeError:\n",
    "        pass\n",
    "    \n",
    "    #extract, clean and store paragraphs into one single text\n",
    "    try:\n",
    "        paragraph = ''\n",
    "        for i in soup.find_all('div', class_=\"td-post-content tagdiv-type\"):\n",
    "            paragraph = paragraph + i.get_text()\n",
    "        paragraph = paragraph.replace('\\n','')\n",
    "    except AttributeError:\n",
    "        pass\n",
    "    \n",
    "       \n",
    "    #store data in a list arranged in the form of dictionary and convert to dataframe later\n",
    "    scraped_data.append({\n",
    "                            'link':link,\n",
    "                            'title':title,\n",
    "                            'paragraph':paragraph\n",
    "                })\n"
   ]
  },
  {
   "cell_type": "code",
   "execution_count": 6,
   "id": "921e5c01",
   "metadata": {},
   "outputs": [
    {
     "data": {
      "text/html": [
       "<div>\n",
       "<style scoped>\n",
       "    .dataframe tbody tr th:only-of-type {\n",
       "        vertical-align: middle;\n",
       "    }\n",
       "\n",
       "    .dataframe tbody tr th {\n",
       "        vertical-align: top;\n",
       "    }\n",
       "\n",
       "    .dataframe thead th {\n",
       "        text-align: right;\n",
       "    }\n",
       "</style>\n",
       "<table border=\"1\" class=\"dataframe\">\n",
       "  <thead>\n",
       "    <tr style=\"text-align: right;\">\n",
       "      <th></th>\n",
       "      <th>link</th>\n",
       "      <th>title</th>\n",
       "      <th>paragraph</th>\n",
       "    </tr>\n",
       "  </thead>\n",
       "  <tbody>\n",
       "    <tr>\n",
       "      <th>0</th>\n",
       "      <td>https://insights.blackcoffer.com/rise-of-telem...</td>\n",
       "      <td>Rise of telemedicine and its Impact on Livelih...</td>\n",
       "      <td>Telemedicine, the use of technology to diagnos...</td>\n",
       "    </tr>\n",
       "    <tr>\n",
       "      <th>1</th>\n",
       "      <td>https://insights.blackcoffer.com/rise-of-e-hea...</td>\n",
       "      <td>Rise of e-health and its impact on humans by t...</td>\n",
       "      <td>The rise of e-health, or the use of electronic...</td>\n",
       "    </tr>\n",
       "    <tr>\n",
       "      <th>2</th>\n",
       "      <td>https://insights.blackcoffer.com/rise-of-e-hea...</td>\n",
       "      <td>Rise of e-health and its impact on humans by t...</td>\n",
       "      <td></td>\n",
       "    </tr>\n",
       "    <tr>\n",
       "      <th>3</th>\n",
       "      <td>https://insights.blackcoffer.com/rise-of-telem...</td>\n",
       "      <td>Rise of telemedicine and its Impact on Livelih...</td>\n",
       "      <td>“More gains on quality, affordability and acce...</td>\n",
       "    </tr>\n",
       "    <tr>\n",
       "      <th>4</th>\n",
       "      <td>https://insights.blackcoffer.com/rise-of-telem...</td>\n",
       "      <td>Rise of telemedicine and its Impact on Livelih...</td>\n",
       "      <td>“More gains on quality, affordability and acce...</td>\n",
       "    </tr>\n",
       "  </tbody>\n",
       "</table>\n",
       "</div>"
      ],
      "text/plain": [
       "                                                link  \\\n",
       "0  https://insights.blackcoffer.com/rise-of-telem...   \n",
       "1  https://insights.blackcoffer.com/rise-of-e-hea...   \n",
       "2  https://insights.blackcoffer.com/rise-of-e-hea...   \n",
       "3  https://insights.blackcoffer.com/rise-of-telem...   \n",
       "4  https://insights.blackcoffer.com/rise-of-telem...   \n",
       "\n",
       "                                               title  \\\n",
       "0  Rise of telemedicine and its Impact on Livelih...   \n",
       "1  Rise of e-health and its impact on humans by t...   \n",
       "2  Rise of e-health and its impact on humans by t...   \n",
       "3  Rise of telemedicine and its Impact on Livelih...   \n",
       "4  Rise of telemedicine and its Impact on Livelih...   \n",
       "\n",
       "                                           paragraph  \n",
       "0  Telemedicine, the use of technology to diagnos...  \n",
       "1  The rise of e-health, or the use of electronic...  \n",
       "2                                                     \n",
       "3  “More gains on quality, affordability and acce...  \n",
       "4  “More gains on quality, affordability and acce...  "
      ]
     },
     "execution_count": 6,
     "metadata": {},
     "output_type": "execute_result"
    }
   ],
   "source": [
    "#covnvert scraped data list into pandas dataframe\n",
    "\n",
    "output_data = pd.DataFrame(scraped_data)\n",
    "output_data.head()"
   ]
  },
  {
   "cell_type": "code",
   "execution_count": 7,
   "id": "6b6d88d7",
   "metadata": {},
   "outputs": [
    {
     "data": {
      "text/plain": [
       "(114, 3)"
      ]
     },
     "execution_count": 7,
     "metadata": {},
     "output_type": "execute_result"
    }
   ],
   "source": [
    "#check the shape of output dataset\n",
    "\n",
    "output_data.shape"
   ]
  },
  {
   "cell_type": "markdown",
   "id": "6bd0c99f",
   "metadata": {},
   "source": [
    "#### Data Cleaning"
   ]
  },
  {
   "cell_type": "code",
   "execution_count": 8,
   "id": "53d89f75",
   "metadata": {},
   "outputs": [],
   "source": [
    "#convert the text in paragraph into lower case\n",
    "\n",
    "output_data['paragraph_lower'] = output_data['paragraph'].str.lower()"
   ]
  },
  {
   "cell_type": "code",
   "execution_count": 9,
   "id": "4bf8c6f9",
   "metadata": {},
   "outputs": [
    {
     "data": {
      "text/plain": [
       "0      telemedicine, the use of technology to diagnos...\n",
       "1      the rise of e-health, or the use of electronic...\n",
       "2                                                       \n",
       "3      “more gains on quality, affordability and acce...\n",
       "4      “more gains on quality, affordability and acce...\n",
       "                             ...                        \n",
       "109    before jumping on the topic i would like to gi...\n",
       "110    as the coronavirus spreads around the world an...\n",
       "111    from alibaba to ping an and google to ford, co...\n",
       "112    whenthe british ruled india, many indiansaccep...\n",
       "113    the business of business is no longer to do ju...\n",
       "Name: paragraph_lower, Length: 114, dtype: object"
      ]
     },
     "execution_count": 9,
     "metadata": {},
     "output_type": "execute_result"
    }
   ],
   "source": [
    "#check the result\n",
    "\n",
    "output_data['paragraph_lower']"
   ]
  },
  {
   "cell_type": "code",
   "execution_count": 10,
   "id": "4ed8c2fc",
   "metadata": {},
   "outputs": [],
   "source": [
    "#remove punctuations and store in a different field\n",
    "\n",
    "output_data['paragraph_cleaned'] = output_data['paragraph_lower'].str.translate(str.maketrans('','',string.punctuation))"
   ]
  },
  {
   "cell_type": "code",
   "execution_count": 11,
   "id": "62bcc013",
   "metadata": {},
   "outputs": [
    {
     "data": {
      "text/plain": [
       "0      telemedicine the use of technology to diagnose...\n",
       "1      the rise of ehealth or the use of electronic m...\n",
       "2                                                       \n",
       "3      “more gains on quality affordability and acces...\n",
       "4      “more gains on quality affordability and acces...\n",
       "                             ...                        \n",
       "109    before jumping on the topic i would like to gi...\n",
       "110    as the coronavirus spreads around the world an...\n",
       "111    from alibaba to ping an and google to ford com...\n",
       "112    whenthe british ruled india many indiansaccept...\n",
       "113    the business of business is no longer to do ju...\n",
       "Name: paragraph_cleaned, Length: 114, dtype: object"
      ]
     },
     "execution_count": 11,
     "metadata": {},
     "output_type": "execute_result"
    }
   ],
   "source": [
    "#check the result\n",
    "\n",
    "output_data['paragraph_cleaned']"
   ]
  },
  {
   "cell_type": "code",
   "execution_count": 12,
   "id": "1f21d79e",
   "metadata": {},
   "outputs": [],
   "source": [
    "#in above output there is a '“' symbol apperaing in row 3 and 4, and maybe in more rows down the line. We need to clean that...\n",
    "\n",
    "output_data['paragraph_cleaned'] = output_data['paragraph_cleaned'].str.replace('“','').str.replace('”',' ').str.replace(',','')"
   ]
  },
  {
   "cell_type": "code",
   "execution_count": 13,
   "id": "93b2ae2d",
   "metadata": {},
   "outputs": [
    {
     "data": {
      "text/plain": [
       "0      telemedicine the use of technology to diagnose...\n",
       "1      the rise of ehealth or the use of electronic m...\n",
       "2                                                       \n",
       "3      more gains on quality affordability and access...\n",
       "4      more gains on quality affordability and access...\n",
       "                             ...                        \n",
       "109    before jumping on the topic i would like to gi...\n",
       "110    as the coronavirus spreads around the world an...\n",
       "111    from alibaba to ping an and google to ford com...\n",
       "112    whenthe british ruled india many indiansaccept...\n",
       "113    the business of business is no longer to do ju...\n",
       "Name: paragraph_cleaned, Length: 114, dtype: object"
      ]
     },
     "execution_count": 13,
     "metadata": {},
     "output_type": "execute_result"
    }
   ],
   "source": [
    "#check the result --- looks good\n",
    "\n",
    "output_data['paragraph_cleaned']"
   ]
  },
  {
   "cell_type": "code",
   "execution_count": 14,
   "id": "01cd2751",
   "metadata": {},
   "outputs": [
    {
     "name": "stderr",
     "output_type": "stream",
     "text": [
      "<ipython-input-14-a3d42f6b99c8>:6: SettingWithCopyWarning: \n",
      "A value is trying to be set on a copy of a slice from a DataFrame\n",
      "\n",
      "See the caveats in the documentation: https://pandas.pydata.org/pandas-docs/stable/user_guide/indexing.html#returning-a-view-versus-a-copy\n",
      "  output_data['paragraph_tokenized'][para] = word_tokenize(output_data['paragraph_cleaned'][para],\"english\")\n",
      "C:\\Users\\ashwi\\anaconda3\\lib\\site-packages\\pandas\\core\\indexing.py:1637: SettingWithCopyWarning: \n",
      "A value is trying to be set on a copy of a slice from a DataFrame\n",
      "\n",
      "See the caveats in the documentation: https://pandas.pydata.org/pandas-docs/stable/user_guide/indexing.html#returning-a-view-versus-a-copy\n",
      "  self._setitem_single_block(indexer, value, name)\n"
     ]
    }
   ],
   "source": [
    "#create a field to store tokenized paragrapgh\n",
    "output_data['paragraph_tokenized'] = np.nan\n",
    "\n",
    "#tokenize the paragraph\n",
    "for para in range(len(output_data)):\n",
    "    output_data['paragraph_tokenized'][para] = word_tokenize(output_data['paragraph_cleaned'][para],\"english\")"
   ]
  },
  {
   "cell_type": "code",
   "execution_count": 15,
   "id": "f2b8d73c",
   "metadata": {},
   "outputs": [],
   "source": [
    "#create a field which will store words from tokenized column after removing stopwords\n",
    "output_data['paragraph_no_stopwords'] = ''\n",
    "\n",
    "\n",
    "#tokenize the paragraph\n",
    "for para in range(len(output_data)):\n",
    "    \n",
    "    #creaing a empty list to store all words after removing stopwrods\n",
    "    no_stopwords = []\n",
    "    for word in output_data['paragraph_tokenized'][para]:\n",
    "        if word not in stopwords:\n",
    "            no_stopwords.append(word)\n",
    "    \n",
    "    #store list in a separate field\n",
    "    output_data['paragraph_no_stopwords'][para] = no_stopwords       \n",
    "            "
   ]
  },
  {
   "cell_type": "code",
   "execution_count": 16,
   "id": "8b661cbb",
   "metadata": {},
   "outputs": [
    {
     "data": {
      "text/html": [
       "<div>\n",
       "<style scoped>\n",
       "    .dataframe tbody tr th:only-of-type {\n",
       "        vertical-align: middle;\n",
       "    }\n",
       "\n",
       "    .dataframe tbody tr th {\n",
       "        vertical-align: top;\n",
       "    }\n",
       "\n",
       "    .dataframe thead th {\n",
       "        text-align: right;\n",
       "    }\n",
       "</style>\n",
       "<table border=\"1\" class=\"dataframe\">\n",
       "  <thead>\n",
       "    <tr style=\"text-align: right;\">\n",
       "      <th></th>\n",
       "      <th>link</th>\n",
       "      <th>title</th>\n",
       "      <th>paragraph</th>\n",
       "      <th>paragraph_lower</th>\n",
       "      <th>paragraph_cleaned</th>\n",
       "      <th>paragraph_tokenized</th>\n",
       "      <th>paragraph_no_stopwords</th>\n",
       "    </tr>\n",
       "  </thead>\n",
       "  <tbody>\n",
       "    <tr>\n",
       "      <th>109</th>\n",
       "      <td>https://insights.blackcoffer.com/coronavirus-i...</td>\n",
       "      <td>Coronavirus: Impact on the Hospitality Industry</td>\n",
       "      <td>Before jumping on the topic I would like to gi...</td>\n",
       "      <td>before jumping on the topic i would like to gi...</td>\n",
       "      <td>before jumping on the topic i would like to gi...</td>\n",
       "      <td>[before, jumping, on, the, topic, i, would, li...</td>\n",
       "      <td>[jumping, topic, give, overview, coronavirus, ...</td>\n",
       "    </tr>\n",
       "    <tr>\n",
       "      <th>110</th>\n",
       "      <td>https://insights.blackcoffer.com/coronavirus-i...</td>\n",
       "      <td>Coronavirus impact on energy markets</td>\n",
       "      <td>As the coronavirus spreads around the world an...</td>\n",
       "      <td>as the coronavirus spreads around the world an...</td>\n",
       "      <td>as the coronavirus spreads around the world an...</td>\n",
       "      <td>[as, the, coronavirus, spreads, around, the, w...</td>\n",
       "      <td>[coronavirus, spreads, world, countries, imple...</td>\n",
       "    </tr>\n",
       "    <tr>\n",
       "      <th>111</th>\n",
       "      <td>https://insights.blackcoffer.com/what-are-the-...</td>\n",
       "      <td>What are the key policies that will mitigate t...</td>\n",
       "      <td>From Alibaba to Ping An and Google to Ford, co...</td>\n",
       "      <td>from alibaba to ping an and google to ford, co...</td>\n",
       "      <td>from alibaba to ping an and google to ford com...</td>\n",
       "      <td>[from, alibaba, to, ping, an, and, google, to,...</td>\n",
       "      <td>[alibaba, google, companies, globe, telling, s...</td>\n",
       "    </tr>\n",
       "    <tr>\n",
       "      <th>112</th>\n",
       "      <td>https://insights.blackcoffer.com/marketing-dri...</td>\n",
       "      <td>Marketing Drives Results With A Focus On Problems</td>\n",
       "      <td>Whenthe British ruled India, many Indiansaccep...</td>\n",
       "      <td>whenthe british ruled india, many indiansaccep...</td>\n",
       "      <td>whenthe british ruled india many indiansaccept...</td>\n",
       "      <td>[whenthe, british, ruled, india, many, indians...</td>\n",
       "      <td>[whenthe, ruled, indiansaccepted, work, policy...</td>\n",
       "    </tr>\n",
       "    <tr>\n",
       "      <th>113</th>\n",
       "      <td>https://insights.blackcoffer.com/continued-dem...</td>\n",
       "      <td>Continued Demand for Sustainability</td>\n",
       "      <td>The business of business is no longer to do ju...</td>\n",
       "      <td>the business of business is no longer to do ju...</td>\n",
       "      <td>the business of business is no longer to do ju...</td>\n",
       "      <td>[the, business, of, business, is, no, longer, ...</td>\n",
       "      <td>[business, business, longer, businessor, incre...</td>\n",
       "    </tr>\n",
       "  </tbody>\n",
       "</table>\n",
       "</div>"
      ],
      "text/plain": [
       "                                                  link  \\\n",
       "109  https://insights.blackcoffer.com/coronavirus-i...   \n",
       "110  https://insights.blackcoffer.com/coronavirus-i...   \n",
       "111  https://insights.blackcoffer.com/what-are-the-...   \n",
       "112  https://insights.blackcoffer.com/marketing-dri...   \n",
       "113  https://insights.blackcoffer.com/continued-dem...   \n",
       "\n",
       "                                                 title  \\\n",
       "109    Coronavirus: Impact on the Hospitality Industry   \n",
       "110               Coronavirus impact on energy markets   \n",
       "111  What are the key policies that will mitigate t...   \n",
       "112  Marketing Drives Results With A Focus On Problems   \n",
       "113                Continued Demand for Sustainability   \n",
       "\n",
       "                                             paragraph  \\\n",
       "109  Before jumping on the topic I would like to gi...   \n",
       "110  As the coronavirus spreads around the world an...   \n",
       "111  From Alibaba to Ping An and Google to Ford, co...   \n",
       "112  Whenthe British ruled India, many Indiansaccep...   \n",
       "113  The business of business is no longer to do ju...   \n",
       "\n",
       "                                       paragraph_lower  \\\n",
       "109  before jumping on the topic i would like to gi...   \n",
       "110  as the coronavirus spreads around the world an...   \n",
       "111  from alibaba to ping an and google to ford, co...   \n",
       "112  whenthe british ruled india, many indiansaccep...   \n",
       "113  the business of business is no longer to do ju...   \n",
       "\n",
       "                                     paragraph_cleaned  \\\n",
       "109  before jumping on the topic i would like to gi...   \n",
       "110  as the coronavirus spreads around the world an...   \n",
       "111  from alibaba to ping an and google to ford com...   \n",
       "112  whenthe british ruled india many indiansaccept...   \n",
       "113  the business of business is no longer to do ju...   \n",
       "\n",
       "                                   paragraph_tokenized  \\\n",
       "109  [before, jumping, on, the, topic, i, would, li...   \n",
       "110  [as, the, coronavirus, spreads, around, the, w...   \n",
       "111  [from, alibaba, to, ping, an, and, google, to,...   \n",
       "112  [whenthe, british, ruled, india, many, indians...   \n",
       "113  [the, business, of, business, is, no, longer, ...   \n",
       "\n",
       "                                paragraph_no_stopwords  \n",
       "109  [jumping, topic, give, overview, coronavirus, ...  \n",
       "110  [coronavirus, spreads, world, countries, imple...  \n",
       "111  [alibaba, google, companies, globe, telling, s...  \n",
       "112  [whenthe, ruled, indiansaccepted, work, policy...  \n",
       "113  [business, business, longer, businessor, incre...  "
      ]
     },
     "execution_count": 16,
     "metadata": {},
     "output_type": "execute_result"
    }
   ],
   "source": [
    "#check the output dataset after all the cleaning\n",
    "\n",
    "output_data.tail()"
   ]
  },
  {
   "cell_type": "markdown",
   "id": "5864f2b4",
   "metadata": {},
   "source": [
    "   "
   ]
  },
  {
   "cell_type": "markdown",
   "id": "035fe9f7",
   "metadata": {},
   "source": [
    "#### Data Analysis"
   ]
  },
  {
   "cell_type": "markdown",
   "id": "f24eb5a1",
   "metadata": {},
   "source": [
    "1. Positive Score"
   ]
  },
  {
   "cell_type": "code",
   "execution_count": 17,
   "id": "64090a2b",
   "metadata": {},
   "outputs": [
    {
     "name": "stderr",
     "output_type": "stream",
     "text": [
      "<ipython-input-17-3241f48e4c08>:16: SettingWithCopyWarning: \n",
      "A value is trying to be set on a copy of a slice from a DataFrame\n",
      "\n",
      "See the caveats in the documentation: https://pandas.pydata.org/pandas-docs/stable/user_guide/indexing.html#returning-a-view-versus-a-copy\n",
      "  output_data['Positive_Score'][row] = score\n"
     ]
    }
   ],
   "source": [
    "#first we will create postive score column\n",
    "output_data['Positive_Score'] = np.nan\n",
    "\n",
    "#calculate values for postive score\n",
    "for row in range(len(output_data)):\n",
    "    \n",
    "    #create a varibale with 0 value to store value of positive words count\n",
    "    score = 0\n",
    "    \n",
    "    #iterate over all words to find number of postive words\n",
    "    for word in output_data['paragraph_no_stopwords'][row]:\n",
    "        if word in positive_words:\n",
    "            score += 1\n",
    "    \n",
    "    #store the value of score in following field\n",
    "    output_data['Positive_Score'][row] = score\n",
    "    \n",
    "            \n",
    "            \n",
    "    "
   ]
  },
  {
   "cell_type": "markdown",
   "id": "c6b8b45a",
   "metadata": {},
   "source": [
    "  "
   ]
  },
  {
   "cell_type": "markdown",
   "id": "20790908",
   "metadata": {},
   "source": [
    "2. negative Score"
   ]
  },
  {
   "cell_type": "code",
   "execution_count": 18,
   "id": "a220c965",
   "metadata": {},
   "outputs": [
    {
     "name": "stderr",
     "output_type": "stream",
     "text": [
      "<ipython-input-18-faf3a936b462>:16: SettingWithCopyWarning: \n",
      "A value is trying to be set on a copy of a slice from a DataFrame\n",
      "\n",
      "See the caveats in the documentation: https://pandas.pydata.org/pandas-docs/stable/user_guide/indexing.html#returning-a-view-versus-a-copy\n",
      "  output_data['Negative_Score'][row] = score\n"
     ]
    }
   ],
   "source": [
    "#create postive score column\n",
    "output_data['Negative_Score'] = np.nan\n",
    "\n",
    "#calculate values for postive score\n",
    "for row in range(len(output_data)):\n",
    "    \n",
    "    #create a varibale with 0 value to store value of positive words count\n",
    "    score = 0\n",
    "    \n",
    "    #iterate over all words to find number of postive words\n",
    "    for word in output_data['paragraph_no_stopwords'][row]:\n",
    "        if word in negative_words:\n",
    "            score += 1\n",
    "    \n",
    "    #store the value of score in following field\n",
    "    output_data['Negative_Score'][row] = score\n",
    "    "
   ]
  },
  {
   "cell_type": "markdown",
   "id": "fac46831",
   "metadata": {},
   "source": [
    "   "
   ]
  },
  {
   "cell_type": "markdown",
   "id": "3cc33b26",
   "metadata": {},
   "source": [
    "3. Polarity Score"
   ]
  },
  {
   "cell_type": "code",
   "execution_count": 19,
   "id": "1021f3d8",
   "metadata": {},
   "outputs": [],
   "source": [
    "#calculate polarity score by the formula provided\n",
    "\n",
    "output_data['Polarity_Score'] = (output_data['Positive_Score'] - output_data['Negative_Score']) / ((output_data['Positive_Score'] + output_data['Negative_Score']) + 0.000001)"
   ]
  },
  {
   "cell_type": "markdown",
   "id": "7aef140f",
   "metadata": {},
   "source": [
    "  "
   ]
  },
  {
   "cell_type": "markdown",
   "id": "60b6a255",
   "metadata": {},
   "source": [
    "4. Subjectivity Score"
   ]
  },
  {
   "cell_type": "code",
   "execution_count": 20,
   "id": "921dc2ae",
   "metadata": {},
   "outputs": [
    {
     "name": "stderr",
     "output_type": "stream",
     "text": [
      "<ipython-input-20-5c64563c9b9d>:7: SettingWithCopyWarning: \n",
      "A value is trying to be set on a copy of a slice from a DataFrame\n",
      "\n",
      "See the caveats in the documentation: https://pandas.pydata.org/pandas-docs/stable/user_guide/indexing.html#returning-a-view-versus-a-copy\n",
      "  output_data['Subjectivity_Score'][row] = (output_data['Positive_Score'][row] + output_data['Negative_Score'][row]) / (len(output_data['paragraph_no_stopwords'][row]) + 0.000001)\n"
     ]
    }
   ],
   "source": [
    "#calculate subjectivity score by the formula provided\n",
    "\n",
    "output_data['Subjectivity_Score'] = np.nan\n",
    "\n",
    "for row in range(len(output_data)):\n",
    "    \n",
    "    output_data['Subjectivity_Score'][row] = (output_data['Positive_Score'][row] + output_data['Negative_Score'][row]) / (len(output_data['paragraph_no_stopwords'][row]) + 0.000001)"
   ]
  },
  {
   "cell_type": "markdown",
   "id": "73c0a7c4",
   "metadata": {},
   "source": [
    "  "
   ]
  },
  {
   "cell_type": "markdown",
   "id": "be3f376a",
   "metadata": {},
   "source": [
    "5. Average Sentence Length"
   ]
  },
  {
   "cell_type": "code",
   "execution_count": 21,
   "id": "f935370b",
   "metadata": {},
   "outputs": [
    {
     "name": "stderr",
     "output_type": "stream",
     "text": [
      "<ipython-input-21-b7ac65fe0919>:7: SettingWithCopyWarning: \n",
      "A value is trying to be set on a copy of a slice from a DataFrame\n",
      "\n",
      "See the caveats in the documentation: https://pandas.pydata.org/pandas-docs/stable/user_guide/indexing.html#returning-a-view-versus-a-copy\n",
      "  output_data['Average_Sentence_Length'][row] = len(output_data['paragraph_no_stopwords'][row]) / len(output_data['paragraph_lower'][row].split('.'))\n"
     ]
    }
   ],
   "source": [
    "#calculationg avarage length by given formula\n",
    "\n",
    "output_data['Average_Sentence_Length'] = np.nan\n",
    "\n",
    "for row in range(len(output_data)):\n",
    "    \n",
    "    output_data['Average_Sentence_Length'][row] = len(output_data['paragraph_no_stopwords'][row]) / len(output_data['paragraph_lower'][row].split('.'))\n",
    "    "
   ]
  },
  {
   "cell_type": "markdown",
   "id": "5c671391",
   "metadata": {},
   "source": [
    "  "
   ]
  },
  {
   "cell_type": "markdown",
   "id": "98758bf7",
   "metadata": {},
   "source": [
    "6. Complex Words Count"
   ]
  },
  {
   "cell_type": "code",
   "execution_count": 22,
   "id": "2a396f01",
   "metadata": {},
   "outputs": [
    {
     "name": "stderr",
     "output_type": "stream",
     "text": [
      "<ipython-input-22-0bb0dc64ee99>:24: SettingWithCopyWarning: \n",
      "A value is trying to be set on a copy of a slice from a DataFrame\n",
      "\n",
      "See the caveats in the documentation: https://pandas.pydata.org/pandas-docs/stable/user_guide/indexing.html#returning-a-view-versus-a-copy\n",
      "  output_data['Complex_Words_Count'][para] = count\n"
     ]
    }
   ],
   "source": [
    "#create a column for storing count of complex words\n",
    "output_data['Complex_Words_Count'] = np.nan\n",
    "\n",
    "\n",
    "#count number of complex words for each paragraph\n",
    "for para in range(len(output_data)):\n",
    "    \n",
    "    mylist = output_data['paragraph_no_stopwords'][para]\n",
    "\n",
    "    count = 0\n",
    "\n",
    "    for myword in mylist:\n",
    "        d = {}.fromkeys('aeiou',0)\n",
    "        haslotsvowels = False\n",
    "        for x in myword.lower():\n",
    "            if x in d:\n",
    "                d[x] += 1\n",
    "        for q in d.values():\n",
    "            if q > 2:\n",
    "                haslotsvowels = True\n",
    "        if haslotsvowels:\n",
    "            count += 1\n",
    "\n",
    "    output_data['Complex_Words_Count'][para] = count"
   ]
  },
  {
   "cell_type": "markdown",
   "id": "298918ae",
   "metadata": {},
   "source": [
    "  "
   ]
  },
  {
   "cell_type": "markdown",
   "id": "4b833b1b",
   "metadata": {},
   "source": [
    "7. Number of Words"
   ]
  },
  {
   "cell_type": "code",
   "execution_count": 23,
   "id": "7c7621cb",
   "metadata": {},
   "outputs": [
    {
     "name": "stderr",
     "output_type": "stream",
     "text": [
      "<ipython-input-23-dbe5e53864aa>:7: SettingWithCopyWarning: \n",
      "A value is trying to be set on a copy of a slice from a DataFrame\n",
      "\n",
      "See the caveats in the documentation: https://pandas.pydata.org/pandas-docs/stable/user_guide/indexing.html#returning-a-view-versus-a-copy\n",
      "  output_data['Word_Count'][para] = len(output_data['paragraph_no_stopwords'][para])\n"
     ]
    }
   ],
   "source": [
    "#create a coulm to store number of words\n",
    "output_data['Word_Count'] = np.nan\n",
    "\n",
    "\n",
    "#count number of number of words for each paragraph\n",
    "for para in range(len(output_data)):\n",
    "    output_data['Word_Count'][para] = len(output_data['paragraph_no_stopwords'][para])\n",
    "    \n"
   ]
  },
  {
   "cell_type": "markdown",
   "id": "ad78d3c2",
   "metadata": {},
   "source": [
    "  "
   ]
  },
  {
   "cell_type": "markdown",
   "id": "242ab520",
   "metadata": {},
   "source": [
    "8. Percentage of Complex Words"
   ]
  },
  {
   "cell_type": "code",
   "execution_count": 24,
   "id": "24523ff9",
   "metadata": {},
   "outputs": [],
   "source": [
    "#percecntage of complex words is calculated by following formula\n",
    "\n",
    "output_data['Percentage_of_Complex_Words'] = output_data['Complex_Words_Count'] / output_data['Word_Count']"
   ]
  },
  {
   "cell_type": "markdown",
   "id": "5d55c282",
   "metadata": {},
   "source": [
    " "
   ]
  },
  {
   "cell_type": "markdown",
   "id": "24dd2b2a",
   "metadata": {},
   "source": [
    "9. Fog Index"
   ]
  },
  {
   "cell_type": "code",
   "execution_count": 25,
   "id": "4ef3178a",
   "metadata": {},
   "outputs": [],
   "source": [
    "#fog index is calculated by following formula\n",
    "\n",
    "output_data['Fog_Index'] = 0.4 * (output_data['Percentage_of_Complex_Words'] + output_data['Average_Sentence_Length'])"
   ]
  },
  {
   "cell_type": "markdown",
   "id": "58a32b34",
   "metadata": {},
   "source": [
    "  "
   ]
  },
  {
   "cell_type": "markdown",
   "id": "0d4a8e90",
   "metadata": {},
   "source": [
    "10. Syllable Count Per Word"
   ]
  },
  {
   "cell_type": "code",
   "execution_count": 26,
   "id": "0703830a",
   "metadata": {},
   "outputs": [
    {
     "name": "stderr",
     "output_type": "stream",
     "text": [
      "<ipython-input-26-5338cc0a50cc>:18: SettingWithCopyWarning: \n",
      "A value is trying to be set on a copy of a slice from a DataFrame\n",
      "\n",
      "See the caveats in the documentation: https://pandas.pydata.org/pandas-docs/stable/user_guide/indexing.html#returning-a-view-versus-a-copy\n",
      "  output_data['Syllable_Count_per_Word'][para] = count / len(output_data['paragraph_no_stopwords'][para])\n"
     ]
    }
   ],
   "source": [
    "#create a column for storing count of syllable counts per word\n",
    "output_data['Syllable_Count_per_Word'] = np.nan\n",
    "\n",
    "\n",
    "#count number of syllable for each paragraph\n",
    "for para in range(len(output_data)):\n",
    "    \n",
    "    mylist = output_data['paragraph_no_stopwords'][para]\n",
    "\n",
    "    count = 0\n",
    "\n",
    "    for myword in mylist:\n",
    "        for char in myword:\n",
    "            if char in ['a','e','i','o','u']:\n",
    "                count += 1\n",
    "                \n",
    "    try:\n",
    "        output_data['Syllable_Count_per_Word'][para] = count / len(output_data['paragraph_no_stopwords'][para])\n",
    "    except ZeroDivisionError:\n",
    "        pass"
   ]
  },
  {
   "cell_type": "markdown",
   "id": "d0d8a33f",
   "metadata": {},
   "source": [
    "  "
   ]
  },
  {
   "cell_type": "markdown",
   "id": "b124c337",
   "metadata": {},
   "source": [
    "11. Personal Pronouns"
   ]
  },
  {
   "cell_type": "code",
   "execution_count": 27,
   "id": "443335c1",
   "metadata": {},
   "outputs": [
    {
     "name": "stderr",
     "output_type": "stream",
     "text": [
      "<ipython-input-27-13a305c81861>:11: SettingWithCopyWarning: \n",
      "A value is trying to be set on a copy of a slice from a DataFrame\n",
      "\n",
      "See the caveats in the documentation: https://pandas.pydata.org/pandas-docs/stable/user_guide/indexing.html#returning-a-view-versus-a-copy\n",
      "  output_data['Personal_Pronouns'][para] = len(pronouns)\n"
     ]
    }
   ],
   "source": [
    "#we will first define all the pronouns using regex\n",
    "pronounRegex = re.compile(r'\\b(i|we|my|you|your|his|her|he|she|it|they|them|him|their|ours|(?-i:us))\\b',re.I)\n",
    "\n",
    "#creata a column to store count of all personal pronouns\n",
    "output_data['Personal_Pronouns'] = np.nan\n",
    "\n",
    "#search for all pronouns in each paragraph\n",
    "for para in range(len(output_data)):\n",
    "    \n",
    "    pronouns = pronounRegex.findall(output_data['paragraph_cleaned'][para])\n",
    "    output_data['Personal_Pronouns'][para] = len(pronouns)"
   ]
  },
  {
   "cell_type": "markdown",
   "id": "dd7c24db",
   "metadata": {},
   "source": [
    "  "
   ]
  },
  {
   "cell_type": "markdown",
   "id": "1ec5ab81",
   "metadata": {},
   "source": [
    "12. Average Word Length"
   ]
  },
  {
   "cell_type": "code",
   "execution_count": 28,
   "id": "2e05da91",
   "metadata": {},
   "outputs": [
    {
     "name": "stderr",
     "output_type": "stream",
     "text": [
      "<ipython-input-28-588b821ec6d5>:8: SettingWithCopyWarning: \n",
      "A value is trying to be set on a copy of a slice from a DataFrame\n",
      "\n",
      "See the caveats in the documentation: https://pandas.pydata.org/pandas-docs/stable/user_guide/indexing.html#returning-a-view-versus-a-copy\n",
      "  output_data['Average_Word_Length'][para] = len(output_data['paragraph_cleaned'][para].replace(' ','')) / len(output_data['paragraph_tokenized'][para])\n"
     ]
    }
   ],
   "source": [
    "#create a column to store average word length\n",
    "output_data['Average_Word_Length'] = np.nan\n",
    "\n",
    "#average word length is calculated by following given formula\n",
    "for para in range(len(output_data)):\n",
    "    \n",
    "    try:\n",
    "        output_data['Average_Word_Length'][para] = len(output_data['paragraph_cleaned'][para].replace(' ','')) / len(output_data['paragraph_tokenized'][para])\n",
    "    except ZeroDivisionError:\n",
    "        pass"
   ]
  },
  {
   "cell_type": "code",
   "execution_count": null,
   "id": "d7475671",
   "metadata": {},
   "outputs": [],
   "source": []
  },
  {
   "cell_type": "code",
   "execution_count": 29,
   "id": "8f1a3dbb",
   "metadata": {},
   "outputs": [
    {
     "data": {
      "text/html": [
       "<div>\n",
       "<style scoped>\n",
       "    .dataframe tbody tr th:only-of-type {\n",
       "        vertical-align: middle;\n",
       "    }\n",
       "\n",
       "    .dataframe tbody tr th {\n",
       "        vertical-align: top;\n",
       "    }\n",
       "\n",
       "    .dataframe thead th {\n",
       "        text-align: right;\n",
       "    }\n",
       "</style>\n",
       "<table border=\"1\" class=\"dataframe\">\n",
       "  <thead>\n",
       "    <tr style=\"text-align: right;\">\n",
       "      <th></th>\n",
       "      <th>link</th>\n",
       "      <th>title</th>\n",
       "      <th>paragraph</th>\n",
       "      <th>paragraph_lower</th>\n",
       "      <th>paragraph_cleaned</th>\n",
       "      <th>paragraph_tokenized</th>\n",
       "      <th>paragraph_no_stopwords</th>\n",
       "      <th>Positive_Score</th>\n",
       "      <th>Negative_Score</th>\n",
       "      <th>Polarity_Score</th>\n",
       "      <th>Subjectivity_Score</th>\n",
       "      <th>Average_Sentence_Length</th>\n",
       "      <th>Complex_Words_Count</th>\n",
       "      <th>Word_Count</th>\n",
       "      <th>Percentage_of_Complex_Words</th>\n",
       "      <th>Fog_Index</th>\n",
       "      <th>Syllable_Count_per_Word</th>\n",
       "      <th>Personal_Pronouns</th>\n",
       "      <th>Average_Word_Length</th>\n",
       "    </tr>\n",
       "  </thead>\n",
       "  <tbody>\n",
       "    <tr>\n",
       "      <th>0</th>\n",
       "      <td>https://insights.blackcoffer.com/rise-of-telem...</td>\n",
       "      <td>Rise of telemedicine and its Impact on Livelih...</td>\n",
       "      <td>Telemedicine, the use of technology to diagnos...</td>\n",
       "      <td>telemedicine, the use of technology to diagnos...</td>\n",
       "      <td>telemedicine the use of technology to diagnose...</td>\n",
       "      <td>[telemedicine, the, use, of, technology, to, d...</td>\n",
       "      <td>[telemedicine, technology, diagnose, patients,...</td>\n",
       "      <td>74.0</td>\n",
       "      <td>21.0</td>\n",
       "      <td>0.557895</td>\n",
       "      <td>0.116137</td>\n",
       "      <td>9.402299</td>\n",
       "      <td>118.0</td>\n",
       "      <td>818.0</td>\n",
       "      <td>0.144254</td>\n",
       "      <td>3.818621</td>\n",
       "      <td>3.262836</td>\n",
       "      <td>44.0</td>\n",
       "      <td>5.677223</td>\n",
       "    </tr>\n",
       "    <tr>\n",
       "      <th>1</th>\n",
       "      <td>https://insights.blackcoffer.com/rise-of-e-hea...</td>\n",
       "      <td>Rise of e-health and its impact on humans by t...</td>\n",
       "      <td>The rise of e-health, or the use of electronic...</td>\n",
       "      <td>the rise of e-health, or the use of electronic...</td>\n",
       "      <td>the rise of ehealth or the use of electronic m...</td>\n",
       "      <td>[the, rise, of, ehealth, or, the, use, of, ele...</td>\n",
       "      <td>[rise, ehealth, electronic, facilitate, health...</td>\n",
       "      <td>38.0</td>\n",
       "      <td>13.0</td>\n",
       "      <td>0.490196</td>\n",
       "      <td>0.180212</td>\n",
       "      <td>11.320000</td>\n",
       "      <td>25.0</td>\n",
       "      <td>283.0</td>\n",
       "      <td>0.088339</td>\n",
       "      <td>4.563336</td>\n",
       "      <td>3.229682</td>\n",
       "      <td>17.0</td>\n",
       "      <td>5.501650</td>\n",
       "    </tr>\n",
       "    <tr>\n",
       "      <th>2</th>\n",
       "      <td>https://insights.blackcoffer.com/rise-of-e-hea...</td>\n",
       "      <td>Rise of e-health and its impact on humans by t...</td>\n",
       "      <td></td>\n",
       "      <td></td>\n",
       "      <td></td>\n",
       "      <td>[]</td>\n",
       "      <td>[]</td>\n",
       "      <td>0.0</td>\n",
       "      <td>0.0</td>\n",
       "      <td>0.000000</td>\n",
       "      <td>0.000000</td>\n",
       "      <td>0.000000</td>\n",
       "      <td>0.0</td>\n",
       "      <td>0.0</td>\n",
       "      <td>NaN</td>\n",
       "      <td>NaN</td>\n",
       "      <td>NaN</td>\n",
       "      <td>0.0</td>\n",
       "      <td>NaN</td>\n",
       "    </tr>\n",
       "    <tr>\n",
       "      <th>3</th>\n",
       "      <td>https://insights.blackcoffer.com/rise-of-telem...</td>\n",
       "      <td>Rise of telemedicine and its Impact on Livelih...</td>\n",
       "      <td>“More gains on quality, affordability and acce...</td>\n",
       "      <td>“more gains on quality, affordability and acce...</td>\n",
       "      <td>more gains on quality affordability and access...</td>\n",
       "      <td>[more, gains, on, quality, affordability, and,...</td>\n",
       "      <td>[gains, quality, affordability, accessibility,...</td>\n",
       "      <td>34.0</td>\n",
       "      <td>26.0</td>\n",
       "      <td>0.133333</td>\n",
       "      <td>0.095390</td>\n",
       "      <td>10.661017</td>\n",
       "      <td>61.0</td>\n",
       "      <td>629.0</td>\n",
       "      <td>0.096979</td>\n",
       "      <td>4.303199</td>\n",
       "      <td>2.877583</td>\n",
       "      <td>24.0</td>\n",
       "      <td>5.558101</td>\n",
       "    </tr>\n",
       "    <tr>\n",
       "      <th>4</th>\n",
       "      <td>https://insights.blackcoffer.com/rise-of-telem...</td>\n",
       "      <td>Rise of telemedicine and its Impact on Livelih...</td>\n",
       "      <td>“More gains on quality, affordability and acce...</td>\n",
       "      <td>“more gains on quality, affordability and acce...</td>\n",
       "      <td>more gains on quality affordability and access...</td>\n",
       "      <td>[more, gains, on, quality, affordability, and,...</td>\n",
       "      <td>[gains, quality, affordability, accessibility,...</td>\n",
       "      <td>34.0</td>\n",
       "      <td>26.0</td>\n",
       "      <td>0.133333</td>\n",
       "      <td>0.095390</td>\n",
       "      <td>10.661017</td>\n",
       "      <td>61.0</td>\n",
       "      <td>629.0</td>\n",
       "      <td>0.096979</td>\n",
       "      <td>4.303199</td>\n",
       "      <td>2.877583</td>\n",
       "      <td>24.0</td>\n",
       "      <td>5.558101</td>\n",
       "    </tr>\n",
       "  </tbody>\n",
       "</table>\n",
       "</div>"
      ],
      "text/plain": [
       "                                                link  \\\n",
       "0  https://insights.blackcoffer.com/rise-of-telem...   \n",
       "1  https://insights.blackcoffer.com/rise-of-e-hea...   \n",
       "2  https://insights.blackcoffer.com/rise-of-e-hea...   \n",
       "3  https://insights.blackcoffer.com/rise-of-telem...   \n",
       "4  https://insights.blackcoffer.com/rise-of-telem...   \n",
       "\n",
       "                                               title  \\\n",
       "0  Rise of telemedicine and its Impact on Livelih...   \n",
       "1  Rise of e-health and its impact on humans by t...   \n",
       "2  Rise of e-health and its impact on humans by t...   \n",
       "3  Rise of telemedicine and its Impact on Livelih...   \n",
       "4  Rise of telemedicine and its Impact on Livelih...   \n",
       "\n",
       "                                           paragraph  \\\n",
       "0  Telemedicine, the use of technology to diagnos...   \n",
       "1  The rise of e-health, or the use of electronic...   \n",
       "2                                                      \n",
       "3  “More gains on quality, affordability and acce...   \n",
       "4  “More gains on quality, affordability and acce...   \n",
       "\n",
       "                                     paragraph_lower  \\\n",
       "0  telemedicine, the use of technology to diagnos...   \n",
       "1  the rise of e-health, or the use of electronic...   \n",
       "2                                                      \n",
       "3  “more gains on quality, affordability and acce...   \n",
       "4  “more gains on quality, affordability and acce...   \n",
       "\n",
       "                                   paragraph_cleaned  \\\n",
       "0  telemedicine the use of technology to diagnose...   \n",
       "1  the rise of ehealth or the use of electronic m...   \n",
       "2                                                      \n",
       "3  more gains on quality affordability and access...   \n",
       "4  more gains on quality affordability and access...   \n",
       "\n",
       "                                 paragraph_tokenized  \\\n",
       "0  [telemedicine, the, use, of, technology, to, d...   \n",
       "1  [the, rise, of, ehealth, or, the, use, of, ele...   \n",
       "2                                                 []   \n",
       "3  [more, gains, on, quality, affordability, and,...   \n",
       "4  [more, gains, on, quality, affordability, and,...   \n",
       "\n",
       "                              paragraph_no_stopwords  Positive_Score  \\\n",
       "0  [telemedicine, technology, diagnose, patients,...            74.0   \n",
       "1  [rise, ehealth, electronic, facilitate, health...            38.0   \n",
       "2                                                 []             0.0   \n",
       "3  [gains, quality, affordability, accessibility,...            34.0   \n",
       "4  [gains, quality, affordability, accessibility,...            34.0   \n",
       "\n",
       "   Negative_Score  Polarity_Score  Subjectivity_Score  \\\n",
       "0            21.0        0.557895            0.116137   \n",
       "1            13.0        0.490196            0.180212   \n",
       "2             0.0        0.000000            0.000000   \n",
       "3            26.0        0.133333            0.095390   \n",
       "4            26.0        0.133333            0.095390   \n",
       "\n",
       "   Average_Sentence_Length  Complex_Words_Count  Word_Count  \\\n",
       "0                 9.402299                118.0       818.0   \n",
       "1                11.320000                 25.0       283.0   \n",
       "2                 0.000000                  0.0         0.0   \n",
       "3                10.661017                 61.0       629.0   \n",
       "4                10.661017                 61.0       629.0   \n",
       "\n",
       "   Percentage_of_Complex_Words  Fog_Index  Syllable_Count_per_Word  \\\n",
       "0                     0.144254   3.818621                 3.262836   \n",
       "1                     0.088339   4.563336                 3.229682   \n",
       "2                          NaN        NaN                      NaN   \n",
       "3                     0.096979   4.303199                 2.877583   \n",
       "4                     0.096979   4.303199                 2.877583   \n",
       "\n",
       "   Personal_Pronouns  Average_Word_Length  \n",
       "0               44.0             5.677223  \n",
       "1               17.0             5.501650  \n",
       "2                0.0                  NaN  \n",
       "3               24.0             5.558101  \n",
       "4               24.0             5.558101  "
      ]
     },
     "execution_count": 29,
     "metadata": {},
     "output_type": "execute_result"
    }
   ],
   "source": [
    "#### Lets check the final output before preparing the final dataset for submission\n",
    "output_data.head()"
   ]
  },
  {
   "cell_type": "code",
   "execution_count": null,
   "id": "43ccfd3c",
   "metadata": {},
   "outputs": [],
   "source": []
  },
  {
   "cell_type": "markdown",
   "id": "9e34a138",
   "metadata": {},
   "source": [
    "#### Preparation of output dataset"
   ]
  },
  {
   "cell_type": "code",
   "execution_count": 30,
   "id": "ab5db08d",
   "metadata": {},
   "outputs": [],
   "source": [
    "#concat input and ouput dataset in order to get URL_ID and URL in output dataset\n",
    "\n",
    "output_data = pd.concat([input_data,output_data], axis=1)"
   ]
  },
  {
   "cell_type": "code",
   "execution_count": 31,
   "id": "b25fcbf4",
   "metadata": {},
   "outputs": [],
   "source": [
    "#keep only required columns and store in output dataset\n",
    "\n",
    "Output_Data_Structure = output_data[['URL_ID', 'URL', 'title', 'paragraph',\n",
    "                                     'Positive_Score','Negative_Score', 'Polarity_Score', 'Subjectivity_Score',\n",
    "                                     'Average_Sentence_Length', 'Percentage_of_Complex_Words', 'Fog_Index',\n",
    "                                     'Complex_Words_Count', 'Word_Count', 'Syllable_Count_per_Word',\n",
    "                                     'Personal_Pronouns', 'Average_Word_Length']]"
   ]
  },
  {
   "cell_type": "code",
   "execution_count": 32,
   "id": "6190857a",
   "metadata": {},
   "outputs": [],
   "source": [
    "#export the file in excel sheet\n",
    "\n",
    "Output_Data_Structure.to_excel('Output_Data_Structure.xlsx')"
   ]
  },
  {
   "cell_type": "markdown",
   "id": "603c37e6",
   "metadata": {},
   "source": [
    "### Done!!"
   ]
  }
 ],
 "metadata": {
  "kernelspec": {
   "display_name": "Python 3",
   "language": "python",
   "name": "python3"
  },
  "language_info": {
   "codemirror_mode": {
    "name": "ipython",
    "version": 3
   },
   "file_extension": ".py",
   "mimetype": "text/x-python",
   "name": "python",
   "nbconvert_exporter": "python",
   "pygments_lexer": "ipython3",
   "version": "3.8.10"
  }
 },
 "nbformat": 4,
 "nbformat_minor": 5
}
